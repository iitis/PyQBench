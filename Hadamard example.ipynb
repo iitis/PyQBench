{
 "cells": [
  {
   "cell_type": "code",
   "execution_count": 39,
   "id": "3d91d2c9",
   "metadata": {},
   "outputs": [],
   "source": [
    "from qiskit import QuantumCircuit, Aer\n",
    "import numpy as np\n",
    "\n",
    "\n",
    "from qbench.schemes.postselection import benchmark_using_postselection\n",
    "from qbench.schemes.direct_sum import benchmark_using_controlled_unitary"
   ]
  },
  {
   "cell_type": "code",
   "execution_count": 53,
   "id": "0059be26",
   "metadata": {},
   "outputs": [],
   "source": [
    "def state_prep():\n",
    "    circuit = QuantumCircuit(2)\n",
    "    circuit.h(0)\n",
    "    circuit.cnot(0, 1)\n",
    "    return circuit.to_instruction()\n",
    "    \n",
    "\n",
    "def u_dag():\n",
    "    circuit = QuantumCircuit(1)\n",
    "    circuit.h(0)\n",
    "    return circuit.to_instruction()\n",
    "\n",
    "def v0_dag():\n",
    "    circuit = QuantumCircuit(1)\n",
    "    circuit.ry(-np.pi * 3 / 4, 0)\n",
    "    return circuit.to_instruction()\n",
    "\n",
    "def v1_dag():\n",
    "    circuit = QuantumCircuit(1)\n",
    "    circuit.ry(-np.pi * 3 / 4, 0)\n",
    "    circuit.x(0)\n",
    "    return circuit.to_instruction()\n",
    "\n",
    "def v0_v1_direct_sum_dag():\n",
    "    circuit = QuantumCircuit(2)\n",
    "    circuit.ry(-np.pi * 3 / 4, 0)\n",
    "    circuit.cnot(0, 1)\n",
    "    return circuit.to_instruction()"
   ]
  },
  {
   "cell_type": "code",
   "execution_count": 54,
   "id": "455e4997",
   "metadata": {},
   "outputs": [],
   "source": [
    "simulator = Aer.get_backend(\"aer_simulator\")"
   ]
  },
  {
   "cell_type": "code",
   "execution_count": 55,
   "id": "b7f6030a",
   "metadata": {},
   "outputs": [],
   "source": [
    "result = benchmark_using_postselection(\n",
    "    backend=simulator,\n",
    "    target=0,\n",
    "    ancilla=1,\n",
    "    state_preparation=state_prep(),\n",
    "    u_dag=u_dag(),\n",
    "    v0_dag=v0_dag(),\n",
    "    v1_dag=v1_dag(),\n",
    "    num_shots_per_measurement=100000\n",
    ")"
   ]
  },
  {
   "cell_type": "code",
   "execution_count": 56,
   "id": "75bbbaa6",
   "metadata": {},
   "outputs": [
    {
     "data": {
      "text/plain": [
       "0.8537402864843542"
      ]
     },
     "execution_count": 56,
     "metadata": {},
     "output_type": "execute_result"
    }
   ],
   "source": [
    "result"
   ]
  },
  {
   "cell_type": "code",
   "execution_count": 57,
   "id": "bfe0ba4b",
   "metadata": {},
   "outputs": [
    {
     "data": {
      "text/plain": [
       "0.8535533905932737"
      ]
     },
     "execution_count": 57,
     "metadata": {},
     "output_type": "execute_result"
    }
   ],
   "source": [
    "expected = 0.5 + 0.25 * np.sqrt(2)\n",
    "expected"
   ]
  },
  {
   "cell_type": "code",
   "execution_count": 64,
   "id": "99acaa62",
   "metadata": {},
   "outputs": [],
   "source": [
    "result = benchmark_using_controlled_unitary(\n",
    "    backend=simulator,\n",
    "    target=0,\n",
    "    ancilla=1,\n",
    "    state_preparation=state_prep(),\n",
    "    u_dag=u_dag(),\n",
    "    v0_v1_direct_sum_dag=v0_v1_dag(),\n",
    "    num_shots_per_measurement=100000\n",
    ")"
   ]
  },
  {
   "cell_type": "code",
   "execution_count": 65,
   "id": "7df4e8a6",
   "metadata": {},
   "outputs": [
    {
     "data": {
      "text/plain": [
       "0.854825"
      ]
     },
     "execution_count": 65,
     "metadata": {},
     "output_type": "execute_result"
    }
   ],
   "source": [
    "result"
   ]
  },
  {
   "cell_type": "code",
   "execution_count": null,
   "id": "49036e31",
   "metadata": {},
   "outputs": [],
   "source": []
  }
 ],
 "metadata": {
  "kernelspec": {
   "display_name": "Python 3 (ipykernel)",
   "language": "python",
   "name": "python3"
  },
  "language_info": {
   "codemirror_mode": {
    "name": "ipython",
    "version": 3
   },
   "file_extension": ".py",
   "mimetype": "text/x-python",
   "name": "python",
   "nbconvert_exporter": "python",
   "pygments_lexer": "ipython3",
   "version": "3.9.15"
  }
 },
 "nbformat": 4,
 "nbformat_minor": 5
}
